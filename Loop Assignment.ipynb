{
 "cells": [
  {
   "cell_type": "code",
   "execution_count": 1,
   "id": "5edbab7f-1e7f-4be6-8ff3-fc44aea1d4bd",
   "metadata": {},
   "outputs": [],
   "source": [
    "#Explain with an example each when to use a for loop and a while loop.\n",
    "#For loops and while loops are two common types of loop structures in programming.\n",
    "\n",
    "# A for loop is used when you want to iterate over a sequence of elements, such as a list or range of numbers, and perform a set of operations on each element. Here's an example in Python:"
   ]
  },
  {
   "cell_type": "code",
   "execution_count": 2,
   "id": "2cb2b3c2-7366-4eb6-9946-f277d3c1562a",
   "metadata": {},
   "outputs": [
    {
     "name": "stdout",
     "output_type": "stream",
     "text": [
      "I like to eat apple\n",
      "I like to eat banana\n",
      "I like to eat cherry\n"
     ]
    }
   ],
   "source": [
    "fruits = [\"apple\", \"banana\", \"cherry\"]\n",
    "for fruit in fruits:\n",
    "    print(\"I like to eat\", fruit)\n"
   ]
  },
  {
   "cell_type": "code",
   "execution_count": 3,
   "id": "82754807-badb-4f6e-9b03-0f9ba77b9854",
   "metadata": {},
   "outputs": [],
   "source": [
    "#A while loop, on the other hand, is used when you want to repeat a set of operations as long as a certain condition is true. Here's an example in Python:"
   ]
  },
  {
   "cell_type": "code",
   "execution_count": null,
   "id": "c5c13e24-4c87-4181-a4ab-b488481dc1db",
   "metadata": {},
   "outputs": [],
   "source": [
    "counter = 1\n",
    "while counter <= 5:\n",
    "    print(\"Iteration:\", counter)\n",
    "    counter += 1\n"
   ]
  },
  {
   "cell_type": "code",
   "execution_count": 5,
   "id": "54cad937-0981-405f-bee9-9e086aa2df9e",
   "metadata": {},
   "outputs": [],
   "source": [
    "#In general, you would use a for loop when you know the number of times you want to iterate beforehand, and a while loop when you want to keep looping until a certain condition is met."
   ]
  },
  {
   "cell_type": "code",
   "execution_count": 2,
   "id": "bae321e1-23ac-4fec-b58e-62435cf2ce52",
   "metadata": {},
   "outputs": [
    {
     "name": "stdout",
     "output_type": "stream",
     "text": [
      "Sum of the first 10 natural numbers (using for loop): 11\n",
      "Product of the first 10 natural numbers (using for loop): 3628800\n",
      "Sum of the first 10 natural numbers (using while loop): 55\n",
      "Product of the first 10 natural numbers (using while loop): 3628800\n"
     ]
    }
   ],
   "source": [
    "# Using for loop Write a python program to print the sum and product of the first 10 natural numbers using for\n",
    "#and while loop.\n",
    "product = 1\n",
    "for i in range(1, 11):\n",
    "    sum = i+1\n",
    "    product = i*product\n",
    "print(\"Sum of the first 10 natural numbers (using for loop):\", sum)\n",
    "print(\"Product of the first 10 natural numbers (using for loop):\", product)\n",
    "\n",
    "# Using while loop\n",
    "sum = 0\n",
    "product = 1\n",
    "i = 1\n",
    "while i <= 10:\n",
    "    sum += i\n",
    "    product *= i\n",
    "    i += 1\n",
    "print(\"Sum of the first 10 natural numbers (using while loop):\", sum)\n",
    "print(\"Product of the first 10 natural numbers (using while loop):\", product)\n"
   ]
  },
  {
   "cell_type": "code",
   "execution_count": null,
   "id": "139dc80a-1e1c-4c36-be1b-58041517b7f4",
   "metadata": {},
   "outputs": [],
   "source": [
    "#Create a python program to compute the electricity bill for a household.\n",
    "\n",
    "#The per-unit charges in rupees are as follows: For the first 100 units, the user will be charged Rs. 4.5 per\n",
    "#unit, for the next 100 units, the user will be charged Rs. 6 per unit, and for the next 100 units, the user will\n",
    "#be charged Rs. 10 per unit, After 300 units and above the user will be charged Rs. 20 per unit.\n",
    "#You are required to take the units of electricity consumed in a month from the user as input.\n",
    "#Your program must pass this test case: when the unit of electricity consumed by the user in a month is\n",
    "#310, the total electricity bill should be 2250.\n",
    "\n",
    "def electricity_bill(units):\n",
    "    charges = [4.5,6,10,20]\n",
    "    bill = 0\n",
    "    if units <=100:\n",
    "        bill = units * charges[0]\n",
    "    elif units <=200:\n",
    "        bill = (100*charges[0])+((units-100)*charges[1])\n",
    "    elif units <=300:\n",
    "        bill = (100*charges[0])+(100*charges[1])+((units-200)*charges[2])\n",
    "    else:\n",
    "        bill = (100*charges[0]) + (100*charges[1])+(100*charges[2])+((units-300)*charges[3])\n",
    "    return bill\n",
    "\n",
    "units = 310\n",
    "print(electricity_bill(units))\n",
    "                                                                \n",
    "    "
   ]
  },
  {
   "cell_type": "code",
   "execution_count": null,
   "id": "0810571e-6548-47ff-95a7-c2d644d3e382",
   "metadata": {},
   "outputs": [],
   "source": [
    "#Create a list of numbers from 1 to 100. Use for loop and while loop to calculate the cube of each\n",
    "#number and if the cube of that number is divisible by 4 or 5 then append that number in a list and print\n",
    "#that list.\n",
    "\n",
    "numbers_for = []\n",
    "for i in range(1,101):\n",
    "    cube = i **3\n",
    "    if cube % 4 == 0 or cube % 5 == 0:\n",
    "        numbers_for.append(i)\n",
    "print(\"Using for Loop:\", numbers_for)\n",
    "\n",
    "    "
   ]
  },
  {
   "cell_type": "code",
   "execution_count": null,
   "id": "a7996945-664e-4ac1-9cf9-49047bd333fe",
   "metadata": {},
   "outputs": [],
   "source": [
    "numbers_while = []\n",
    "i = 1\n",
    "while i<=100:\n",
    "    cube = i**3\n",
    "    if cube % 4 == 0 or cube % 5 ==0:\n",
    "        numbers_while.append(i)\n",
    "        i+=1\n",
    "print(\"Using for Loop:\", numbers_While) "
   ]
  },
  {
   "cell_type": "code",
   "execution_count": null,
   "id": "f1e1eb5a-bd3d-48b9-80c5-8978e7904ee0",
   "metadata": {},
   "outputs": [],
   "source": [
    "def count_vowels(sentence):\n",
    "    vowels = \"aeiouAEIOU\"\n",
    "    count = 0\n",
    "    for char in sentence:\n",
    "        if char in vowels:\n",
    "            count += 1\n",
    "    return count\n",
    "string = \"I want to become a data scientist\"\n",
    "print(count_vowels(string))\n"
   ]
  }
 ],
 "metadata": {
  "kernelspec": {
   "display_name": "Python 3 (ipykernel)",
   "language": "python",
   "name": "python3"
  },
  "language_info": {
   "codemirror_mode": {
    "name": "ipython",
    "version": 3
   },
   "file_extension": ".py",
   "mimetype": "text/x-python",
   "name": "python",
   "nbconvert_exporter": "python",
   "pygments_lexer": "ipython3",
   "version": "3.10.8"
  }
 },
 "nbformat": 4,
 "nbformat_minor": 5
}
